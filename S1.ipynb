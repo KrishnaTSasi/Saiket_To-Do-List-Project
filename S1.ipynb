{
  "nbformat": 4,
  "nbformat_minor": 0,
  "metadata": {
    "colab": {
      "provenance": [],
      "authorship_tag": "ABX9TyOqIsvM8weh1IMWaMpAM0UE",
      "include_colab_link": true
    },
    "kernelspec": {
      "name": "python3",
      "display_name": "Python 3"
    },
    "language_info": {
      "name": "python"
    }
  },
  "cells": [
    {
      "cell_type": "markdown",
      "metadata": {
        "id": "view-in-github",
        "colab_type": "text"
      },
      "source": [
        "<a href=\"https://colab.research.google.com/github/KrishnaTSasi/Saiket_To-Do-List-Project/blob/main/S1.ipynb\" target=\"_parent\"><img src=\"https://colab.research.google.com/assets/colab-badge.svg\" alt=\"Open In Colab\"/></a>"
      ]
    },
    {
      "cell_type": "markdown",
      "source": [
        "TO DO LIST APPLICATION"
      ],
      "metadata": {
        "id": "d825Yrx7otLi"
      }
    },
    {
      "cell_type": "markdown",
      "source": [
        "Task Class"
      ],
      "metadata": {
        "id": "KkWjaFKxgNaM"
      }
    },
    {
      "cell_type": "code",
      "source": [
        "def add_task(tasks):\n",
        "    \"\"\"\n",
        "    Adds a new task to the to-do list.\n",
        "    \"\"\"\n",
        "    description = input(\"Enter the task description: \")\n",
        "    task = {\"description\": description, \"completed\": False}\n",
        "    tasks.append(task)\n",
        "    print(\"Task added successfully! \")"
      ],
      "metadata": {
        "id": "ELxKsLvMp3G4"
      },
      "execution_count": null,
      "outputs": []
    },
    {
      "cell_type": "markdown",
      "source": [
        "To Do List Class"
      ],
      "metadata": {
        "id": "wVUlN1IcgOQ1"
      }
    },
    {
      "cell_type": "code",
      "source": [
        "def view_tasks(tasks):\n",
        "    \"\"\"\n",
        "    Displays all tasks with their completion status.\n",
        "    \"\"\"\n",
        "    if not tasks:\n",
        "        print(\"Your to-do list is empty. \")\n",
        "    else:\n",
        "        print(\"\\n--- To-Do List ---\")\n",
        "        for i, task in enumerate(tasks, 1):\n",
        "            status = \"✅\" if task[\"completed\"] else \"❌\"\n",
        "            print(f\"{i}. [{status}] {task['description']}\")\n",
        "        print(\"------------------\\n\")"
      ],
      "metadata": {
        "id": "SPpWSwOZp6Oo"
      },
      "execution_count": null,
      "outputs": []
    },
    {
      "cell_type": "code",
      "source": [
        "def mark_task_completed(tasks):\n",
        "    \"\"\"\n",
        "    Marks a task as completed.\n",
        "    \"\"\"\n",
        "    view_tasks(tasks)\n",
        "    if not tasks:\n",
        "        return\n",
        "\n",
        "    try:\n",
        "        task_number = int(input(\"Enter the number of the task to mark as completed: \")) - 1\n",
        "        if 0 <= task_number < len(tasks):\n",
        "            tasks[task_number][\"completed\"] = True\n",
        "            print(\"Task marked as completed! \")\n",
        "        else:\n",
        "            print(\"Invalid task number. Please try again. \")\n",
        "    except ValueError:\n",
        "        print(\"Invalid input. Please enter a number. \")"
      ],
      "metadata": {
        "id": "g1asslxAqF_R"
      },
      "execution_count": null,
      "outputs": []
    },
    {
      "cell_type": "markdown",
      "source": [
        "main() Function"
      ],
      "metadata": {
        "id": "o02iztOCgcaw"
      }
    },
    {
      "cell_type": "code",
      "source": [
        "def main():\n",
        "    \"\"\"\n",
        "    Main function to run the to-do list application.\n",
        "    \"\"\"\n",
        "    tasks = []\n",
        "\n",
        "    while True:\n",
        "        print(\"\\n--- To-Do List Application ---\")\n",
        "        print(\"1. Add a new task\")\n",
        "        print(\"2. View all tasks\")\n",
        "        print(\"3. Mark a task as completed\")\n",
        "        print(\"4. Exit\")\n",
        "\n",
        "        choice = input(\"Enter your choice (1-4): \")\n",
        "\n",
        "        if choice == '1':\n",
        "            add_task(tasks)\n",
        "        elif choice == '2':\n",
        "            view_tasks(tasks)\n",
        "        elif choice == '3':\n",
        "            mark_task_completed(tasks)\n",
        "        elif choice == '4':\n",
        "            print(\"Exiting application. Goodbye! \")\n",
        "            break\n",
        "        else:\n",
        "            print(\"Invalid choice. Please enter a number between 1 and 4. \")\n",
        "\n",
        "if __name__ == \"__main__\":\n",
        "    main()"
      ],
      "metadata": {
        "colab": {
          "base_uri": "https://localhost:8080/"
        },
        "id": "w9yJLe5sqUfL",
        "outputId": "ffc05819-f58d-4f40-fae5-620d19c00a4a"
      },
      "execution_count": null,
      "outputs": [
        {
          "output_type": "stream",
          "name": "stdout",
          "text": [
            "\n",
            "--- To-Do List Application ---\n",
            "1. Add a new task\n",
            "2. View all tasks\n",
            "3. Mark a task as completed\n",
            "4. Exit\n",
            "Enter your choice (1-4): 1\n",
            "Enter the task description: Learn Python\n",
            "Task added successfully! \n",
            "\n",
            "--- To-Do List Application ---\n",
            "1. Add a new task\n",
            "2. View all tasks\n",
            "3. Mark a task as completed\n",
            "4. Exit\n",
            "Enter your choice (1-4): 1\n",
            "Enter the task description: Finish Python project\n",
            "Task added successfully! \n",
            "\n",
            "--- To-Do List Application ---\n",
            "1. Add a new task\n",
            "2. View all tasks\n",
            "3. Mark a task as completed\n",
            "4. Exit\n",
            "Enter your choice (1-4): 2\n",
            "\n",
            "--- To-Do List ---\n",
            "1. [❌] Learn Python\n",
            "2. [❌] Finish Python project\n",
            "------------------\n",
            "\n",
            "\n",
            "--- To-Do List Application ---\n",
            "1. Add a new task\n",
            "2. View all tasks\n",
            "3. Mark a task as completed\n",
            "4. Exit\n",
            "Enter your choice (1-4): 3\n",
            "\n",
            "--- To-Do List ---\n",
            "1. [❌] Learn Python\n",
            "2. [❌] Finish Python project\n",
            "------------------\n",
            "\n",
            "Enter the number of the task to mark as completed: 1\n",
            "Task marked as completed! \n",
            "\n",
            "--- To-Do List Application ---\n",
            "1. Add a new task\n",
            "2. View all tasks\n",
            "3. Mark a task as completed\n",
            "4. Exit\n",
            "Enter your choice (1-4): 2\n",
            "\n",
            "--- To-Do List ---\n",
            "1. [✅] Learn Python\n",
            "2. [❌] Finish Python project\n",
            "------------------\n",
            "\n",
            "\n",
            "--- To-Do List Application ---\n",
            "1. Add a new task\n",
            "2. View all tasks\n",
            "3. Mark a task as completed\n",
            "4. Exit\n",
            "Enter your choice (1-4): 3\n",
            "\n",
            "--- To-Do List ---\n",
            "1. [✅] Learn Python\n",
            "2. [❌] Finish Python project\n",
            "------------------\n",
            "\n",
            "Enter the number of the task to mark as completed: 2\n",
            "Task marked as completed! \n",
            "\n",
            "--- To-Do List Application ---\n",
            "1. Add a new task\n",
            "2. View all tasks\n",
            "3. Mark a task as completed\n",
            "4. Exit\n",
            "Enter your choice (1-4): 2\n",
            "\n",
            "--- To-Do List ---\n",
            "1. [✅] Learn Python\n",
            "2. [✅] Finish Python project\n",
            "------------------\n",
            "\n",
            "\n",
            "--- To-Do List Application ---\n",
            "1. Add a new task\n",
            "2. View all tasks\n",
            "3. Mark a task as completed\n",
            "4. Exit\n",
            "Enter your choice (1-4): 4\n",
            "Exiting application. Goodbye! \n"
          ]
        }
      ]
    }
  ]
}